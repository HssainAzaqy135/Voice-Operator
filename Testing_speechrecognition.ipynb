{
 "cells": [
  {
   "cell_type": "markdown",
   "id": "446e9d10-a892-46d0-9d3a-a888b77db46c",
   "metadata": {},
   "source": [
    "## Imports"
   ]
  },
  {
   "cell_type": "code",
   "execution_count": 1,
   "id": "818494b7-14ff-415e-8cee-e58c13e68e72",
   "metadata": {},
   "outputs": [],
   "source": [
    "import pyaudio\n",
    "import speech_recognition as sr\n",
    "import json\n",
    "import os"
   ]
  },
  {
   "cell_type": "code",
   "execution_count": 2,
   "id": "2164ef16-713b-43dc-88da-0a64db4219f8",
   "metadata": {},
   "outputs": [],
   "source": [
    "def recognize_speech(recognizer,listen_time =5,noise_adjustment_duration = 1.5):\n",
    "    \n",
    "    # Use the microphone as the audio source\n",
    "    with sr.Microphone() as source:\n",
    "        print(\"Adjusting for noise\")\n",
    "        # Adjust for ambient noise\n",
    "        recognizer.adjust_for_ambient_noise(source=source,duration = noise_adjustment_duration )\n",
    "        \n",
    "        print(f\"Listening for {listen_time} seconds...\")\n",
    "        audio = recognizer.listen(source, timeout=listen_time)\n",
    "        \n",
    "    try:\n",
    "        print(\"Recognizing...\")\n",
    "        # Convert audio to text using Google's Speech Recognition\n",
    "        text,confidence = recognizer.recognize_google(audio_data=audio,\n",
    "                                           with_confidence=True)\n",
    "        print(\"You said:\", text)\n",
    "        print(f\"with confidence: {confidence}\")\n",
    "        return text\n",
    "    except sr.UnknownValueError:\n",
    "        print(\"Could not understand the audio\")\n",
    "        return None\n",
    "    except sr.RequestError as e:\n",
    "        print(f\"Could not request results; {e}\")\n",
    "        return None"
   ]
  },
  {
   "cell_type": "code",
   "execution_count": 3,
   "id": "a81a9f3f-6d30-4239-965e-39da44dc41e3",
   "metadata": {},
   "outputs": [
    {
     "name": "stdout",
     "output_type": "stream",
     "text": [
      "Adjusting for noise\n",
      "Listening for 20 seconds...\n",
      "Recognizing...\n",
      "You said: hi my name is Alex I am extremely mad and I will punch\n",
      "with confidence: 0.96596092\n"
     ]
    },
    {
     "data": {
      "text/plain": [
       "'hi my name is Alex I am extremely mad and I will punch'"
      ]
     },
     "execution_count": 3,
     "metadata": {},
     "output_type": "execute_result"
    }
   ],
   "source": [
    "recognizer=sr.Recognizer()\n",
    "recognizer.pause_threshold = 2\n",
    "recognize_speech(recognizer=recognizer,listen_time=20,noise_adjustment_duration=2)"
   ]
  },
  {
   "cell_type": "code",
   "execution_count": null,
   "id": "f9babd60-a7d4-4fd9-89f1-8746449cab78",
   "metadata": {},
   "outputs": [],
   "source": []
  }
 ],
 "metadata": {
  "kernelspec": {
   "display_name": "Python 3 (ipykernel)",
   "language": "python",
   "name": "python3"
  },
  "language_info": {
   "codemirror_mode": {
    "name": "ipython",
    "version": 3
   },
   "file_extension": ".py",
   "mimetype": "text/x-python",
   "name": "python",
   "nbconvert_exporter": "python",
   "pygments_lexer": "ipython3",
   "version": "3.10.18"
  }
 },
 "nbformat": 4,
 "nbformat_minor": 5
}
